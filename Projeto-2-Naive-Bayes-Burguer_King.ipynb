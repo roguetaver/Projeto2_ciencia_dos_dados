{
 "cells": [
  {
   "cell_type": "markdown",
   "metadata": {},
   "source": [
    "# Projeto 2 - Classificador Automático de Sentimento\n",
    "\n",
    "Você foi contratado por uma empresa parar analisar como os clientes estão reagindo a um determinado produto no Twitter. A empresa deseja que você crie um programa que irá analisar as mensagens disponíveis e classificará como \"relevante\" ou \"irrelevante\". Com isso ela deseja que mensagens negativas, que denigrem o nome do produto, ou que mereçam destaque, disparem um foco de atenção da área de marketing.<br /><br />\n",
    "Como aluno de Ciência dos Dados, você lembrou do Teorema de Bayes, mais especificamente do Classificador Naive-Bayes, que é largamente utilizado em filtros anti-spam de e-mails. O classificador permite calcular qual a probabilidade de uma mensagem ser relevante dadas as palavras em seu conteúdo.<br /><br />\n",
    "Para realizar o MVP (*minimum viable product*) do projeto, você precisa implementar uma versão do classificador que \"aprende\" o que é relevante com uma base de treinamento e compara a performance dos resultados com uma base de testes.<br /><br />\n",
    "Após validado, o seu protótipo poderá também capturar e classificar automaticamente as mensagens da plataforma.\n",
    "\n",
    "## Informações do Projeto\n",
    "\n",
    "Prazo: 19/Set até às 23:59.<br />\n",
    "Grupo: 2 ou 3 pessoas - grupos com 3 pessoas terá uma rubrica diferenciada.<br /><br />\n",
    "Entregáveis via GitHub: \n",
    "* Arquivo notebook com o código do classificador, seguindo as orientações abaixo.\n",
    "* Arquivo Excel com as bases de treinamento e teste totalmente classificado.\n",
    "\n",
    "**NÃO gravar a key do professor no arquivo**\n",
    "\n",
    "\n",
    "### Entrega Intermediária: Check 1 - APS 2\n",
    "\n",
    "Até o dia 10/Set às 23:59, xlsx deve estar no Github com as seguintes evidências: \n",
    "\n",
    "  * Produto escolhido.\n",
    "  * Arquivo Excel contendo a base de treinamento e a base de testes já classificadas.\n",
    "\n",
    "Sugestão de leitura:<br />\n",
    "https://monkeylearn.com/blog/practical-explanation-naive-bayes-classifier/"
   ]
  },
  {
   "cell_type": "markdown",
   "metadata": {},
   "source": [
    "**Projeto 2 Ciência dos dados**\n",
    "\n",
    "** - André Vital Tavernaro**\n",
    "\n",
    "** - Daniel Castro**"
   ]
  },
  {
   "cell_type": "markdown",
   "metadata": {},
   "source": [
    "___\n",
    "\n",
    "## Parte I - Adquirindo a Base de Dados\n",
    "\n",
    "Acessar o notebook **Projeto-2-Planilha** para realizar a coleta dos dados. O grupo deve classificar os dados coletados manualmente."
   ]
  },
  {
   "cell_type": "code",
   "execution_count": 472,
   "metadata": {},
   "outputs": [],
   "source": [
    "import pandas as pd\n",
    "import matplotlib.pyplot as plt\n",
    "import matplotlib\n",
    "\n",
    "dadosbk = pd.read_excel('tweets_burguer_king.xlsx')\n",
    "\n"
   ]
  },
  {
   "cell_type": "markdown",
   "metadata": {},
   "source": [
    "___\n",
    "## Parte II - Montando o Classificador Naive-Bayes\n",
    "\n",
    "Com a base de treinamento montada, comece a desenvolver o classificador. Não se esqueça de implementar o Laplace Smoothing (https://en.wikipedia.org/wiki/Laplace_smoothing).\n",
    "\n",
    "Opcionalmente: \n",
    "* Limpar as mensagens removendo os caracteres: enter, :, \", ', (, ), etc. Não remover emojis.<br />\n",
    "* Corrigir separação de espaços entre palavras e/ou emojis.\n",
    "* Propor outras limpezas/transformações que não afetem a qualidade da informação.\n",
    "\n",
    "Escreva o seu código abaixo:"
   ]
  },
  {
   "cell_type": "markdown",
   "metadata": {},
   "source": [
    "mudando os nomes das categorias e dividindo a tabela em duas: relevantes e irrelevantes"
   ]
  },
  {
   "cell_type": "code",
   "execution_count": 473,
   "metadata": {},
   "outputs": [],
   "source": [
    "dadosbk.classificacao = dadosbk.classificacao.astype('category')\n",
    "dadosbk.classificacao.cat.categories = ('relevante','irrelevante')\n",
    "dadosrele = dadosbk[dadosbk.classificacao=='relevante']\n",
    "dadosirrele = dadosbk[dadosbk.classificacao=='irrelevante']"
   ]
  },
  {
   "cell_type": "markdown",
   "metadata": {},
   "source": [
    "transformando a tabela irrelevante em dicionario e logo depois em string e splitando "
   ]
  },
  {
   "cell_type": "code",
   "execution_count": 474,
   "metadata": {},
   "outputs": [],
   "source": [
    "listairrele = dadosirrele.Treinamento.tolist()\n",
    "stringirrele= str(listairrele)\n",
    "stringirrele = stringirrele.replace(\",\",\"\")\n",
    "stringirrele = stringirrele.replace(\"'\",\"\")\n",
    "stringirrele = stringirrele.replace(\"rt\",\"\")\n",
    "stringirrele = stringirrele.replace(\"]\",\"\")\n",
    "stringirrele = stringirrele.replace(\"[\",\"\")\n",
    "stringirrele = stringirrele.replace(\":\",\"\")\n",
    "stringirrele = stringirrele.replace(\"—\",\"\")\n",
    "stringirrele = stringirrele.replace(\"a\",\"\")\n",
    "stringirrele = stringirrele.replace(\"@\",\"\")\n",
    "stringirrele = stringirrele.replace(\"o\",\"\")\n",
    "splitpalavrasirrele = stringirrele.split()"
   ]
  },
  {
   "cell_type": "markdown",
   "metadata": {},
   "source": [
    "transformando a tabela relevante em dicionario e logo depois em string e splitando "
   ]
  },
  {
   "cell_type": "code",
   "execution_count": 475,
   "metadata": {},
   "outputs": [],
   "source": [
    "listarele = dadosrele.Treinamento.tolist()\n",
    "stringrele= str(listarele)\n",
    "stringrele = stringrele.replace(\",\",\"\")\n",
    "stringrele = stringrele.replace(\"'\",\"\")\n",
    "stringrele = stringrele.replace(\"rt\",\"\")\n",
    "stringrele = stringrele.replace(\"]\",\"\")\n",
    "stringrele = stringrele.replace(\"[\",\"\")\n",
    "stringrele = stringrele.replace(\":\",\"\")\n",
    "stringrele = stringrele.replace(\"@\",\"\")\n",
    "stringrele = stringrele.replace(\"a\",\"\")\n",
    "stringrele = stringrele.replace(\"—\",\"\")\n",
    "stringrele = stringrele.replace(\"o\",\"\")\n",
    "splitpalavrasrele = stringrele.split()"
   ]
  },
  {
   "cell_type": "markdown",
   "metadata": {},
   "source": [
    "transformando a tabela total em dicionario e logo depois em string e splitando "
   ]
  },
  {
   "cell_type": "code",
   "execution_count": 476,
   "metadata": {
    "scrolled": true
   },
   "outputs": [],
   "source": [
    "listafrases = dadosbk.Treinamento.tolist()\n",
    "stringfrases = str(listafrases)\n",
    "stringfrases = stringfrases.replace(\",\",\"\")\n",
    "stringfrases = stringfrases.replace(\"'\",\"\")\n",
    "stringfrases = stringfrases.replace(\"rt\",\"\")\n",
    "stringfrases = stringfrases.replace(\"]\",\"\")\n",
    "stringfrases = stringfrases.replace(\"[\",\"\")\n",
    "stringfrases = stringfrases.replace(\":\",\"\")\n",
    "stringfrases = stringfrases.replace(\"@\",\"\")\n",
    "stringfrases = stringfrases.replace(\"a\",\"\")\n",
    "stringfrases = stringfrases.replace(\"—\",\"\")\n",
    "stringfrases = stringfrases.replace(\"o\",\"\")\n",
    "splitstringfrases = stringfrases.split()"
   ]
  },
  {
   "cell_type": "markdown",
   "metadata": {},
   "source": [
    "Criando uma tabela de frequencia total"
   ]
  },
  {
   "cell_type": "code",
   "execution_count": 477,
   "metadata": {},
   "outputs": [],
   "source": [
    "palavrastotal = {}\n",
    "for ws in splitstringfrases:\n",
    "    if ws not in palavrastotal:\n",
    "        palavrastotal[ws] = 1\n",
    "    else:\n",
    "        palavrastotal[ws] += 1"
   ]
  },
  {
   "cell_type": "markdown",
   "metadata": {},
   "source": [
    "Criando uma tabela de frequencia  dos irrelevantes"
   ]
  },
  {
   "cell_type": "code",
   "execution_count": 478,
   "metadata": {},
   "outputs": [],
   "source": [
    "palavrasirrele = {}\n",
    "for ws in splitpalavrasirrele:\n",
    "    if ws not in palavrasirrele:\n",
    "        palavrasirrele[ws] = 1\n",
    "    else:\n",
    "        palavrasirrele[ws] += 1"
   ]
  },
  {
   "cell_type": "markdown",
   "metadata": {},
   "source": [
    "Criando uma tabela de frequencia  dos relevantes"
   ]
  },
  {
   "cell_type": "code",
   "execution_count": 479,
   "metadata": {},
   "outputs": [],
   "source": [
    "palavrasrele = {}\n",
    "for ws in splitpalavrasrele:\n",
    "    if ws not in palavrasrele:\n",
    "        palavrasrele[ws] = 1\n",
    "    else:\n",
    "        palavrasrele[ws] += 1"
   ]
  },
  {
   "cell_type": "markdown",
   "metadata": {},
   "source": [
    "funcao para encontrar a probabilidade irrelevante"
   ]
  },
  {
   "cell_type": "code",
   "execution_count": 480,
   "metadata": {},
   "outputs": [],
   "source": [
    "import numpy as np"
   ]
  },
  {
   "cell_type": "code",
   "execution_count": 481,
   "metadata": {},
   "outputs": [],
   "source": [
    "def funcaoirrelevante (palavra): \n",
    "    if palavra in palavrasirrele:\n",
    "        quantidadeirrele = palavrasirrele[palavra]\n",
    "    else:\n",
    "        quantidadeirrele = 0\n",
    "    probabilidadeirrele =  (quantidadeirrele + 1 )/ ( len(palavrastotal)+len(palavrasirrele) )\n",
    "    return probabilidadeirrele"
   ]
  },
  {
   "cell_type": "markdown",
   "metadata": {},
   "source": [
    "funcao para encontrar a probabilidade relevante"
   ]
  },
  {
   "cell_type": "code",
   "execution_count": 482,
   "metadata": {},
   "outputs": [],
   "source": [
    "def funcaorelevante (palavra): \n",
    "    if palavra in palavrasrele:\n",
    "        quantidaderele = palavrasrele[palavra]\n",
    "    else:\n",
    "        quantidaderele = 0\n",
    "    probabilidaderele = ( quantidaderele + 1 )/ ( len(palavrastotal)+len(palavrasrele) )\n",
    "    return probabilidaderele"
   ]
  },
  {
   "cell_type": "markdown",
   "metadata": {},
   "source": [
    "___\n",
    "## Verificando a performance\n",
    "\n",
    "Agora você deve testar o seu Classificador com a base de Testes.<br /><br /> \n",
    "\n",
    "Você deve extrair as seguintes medidas:\n",
    "* Porcentagem de positivos falsos (marcados como relevante mas não são relevantes)\n",
    "* Porcentagem de positivos verdadeiros (marcado como relevante e são relevantes)\n",
    "* Porcentagem de negativos verdadeiros (marcado como não relevante e não são relevantes)\n",
    "* Porcentagem de negativos falsos (marcado como não relevante e são relevantes)\n",
    "\n",
    "Obrigatório para grupos de 3 alunos:\n",
    "* Criar categorias intermediárias de relevância baseado na diferença de probabilidades. Exemplo: muito relevante, relevante, neutro, irrelevante e muito irrelevante."
   ]
  },
  {
   "cell_type": "markdown",
   "metadata": {},
   "source": [
    "funcao que splita a string e retorna a classificacao"
   ]
  },
  {
   "cell_type": "code",
   "execution_count": 483,
   "metadata": {
    "scrolled": true
   },
   "outputs": [],
   "source": [
    "from functools import reduce\n",
    "\n",
    "def classificador(string):\n",
    "    multiplicadoresrele = []\n",
    "    multiplicadoresirrele = []\n",
    "    splitado = string.split()\n",
    "    for word in splitado:\n",
    "        multiplicadoresrele.append(funcaorelevante(word))\n",
    "        multiplicadoresirrele.append(funcaoirrelevante(word))\n",
    "    resultadorele = reduce(lambda x, y: x*y, multiplicadoresrele)\n",
    "    resultadoirrele =  reduce(lambda x, y: x*y, multiplicadoresirrele)\n",
    "    if resultadorele < resultadoirrele:\n",
    "        return 'irrelevante'\n",
    "    elif resultadorele > resultadoirrele:\n",
    "        return 'relevante'"
   ]
  },
  {
   "cell_type": "code",
   "execution_count": 484,
   "metadata": {},
   "outputs": [],
   "source": [
    "dadosbkteste = pd.read_excel('tweets_burguer_king.xlsx', 'Teste')"
   ]
  },
  {
   "cell_type": "code",
   "execution_count": 485,
   "metadata": {},
   "outputs": [],
   "source": [
    "dadosbkteste.classificacao = dadosbkteste.classificacao.astype('category')\n",
    "dadosbkteste.classificacao.cat.categories = ('relevante','irrelevante')"
   ]
  },
  {
   "cell_type": "code",
   "execution_count": 486,
   "metadata": {},
   "outputs": [],
   "source": [
    "listafrasesteste = dadosbkteste.Teste.tolist()"
   ]
  },
  {
   "cell_type": "code",
   "execution_count": 487,
   "metadata": {},
   "outputs": [],
   "source": [
    "listacolunateste = []\n",
    "for string in listafrasesteste:\n",
    "    listacolunateste.append(classificador(string))\n",
    "dadosbkteste['programa'] = pd.DataFrame(data=listacolunateste)"
   ]
  },
  {
   "cell_type": "markdown",
   "metadata": {},
   "source": [
    "porcentagem de acerto total"
   ]
  },
  {
   "cell_type": "code",
   "execution_count": 488,
   "metadata": {},
   "outputs": [
    {
     "name": "stdout",
     "output_type": "stream",
     "text": [
      "A probabilidade de acerto do programa foi de: 86.000000%\n"
     ]
    }
   ],
   "source": [
    "lista_classificacaoteste = dadosbkteste.classificacao.tolist()\n",
    "lista_automaticoteste = dadosbkteste.programa.tolist()\n",
    "quantidade_acertosteste=0\n",
    "contadorteste=0\n",
    "for e in lista_classificacaoteste:\n",
    "        if e == lista_automaticoteste[contadorteste]:\n",
    "            quantidade_acertosteste+=1\n",
    "        contadorteste+=1\n",
    "        \n",
    "print('A probabilidade de acerto do programa foi de: {0:f}%'.format(quantidade_acertosteste/2))"
   ]
  },
  {
   "cell_type": "markdown",
   "metadata": {},
   "source": [
    "Porcentagem de positivos ( falsos e verdadeiros)"
   ]
  },
  {
   "cell_type": "code",
   "execution_count": 489,
   "metadata": {
    "scrolled": true
   },
   "outputs": [],
   "source": [
    "relevanteprograma =dadosbkteste[dadosbkteste.programa=='relevante']\n",
    "listaclassificacao = relevanteprograma.classificacao.tolist()"
   ]
  },
  {
   "cell_type": "code",
   "execution_count": 490,
   "metadata": {},
   "outputs": [
    {
     "name": "stdout",
     "output_type": "stream",
     "text": [
      "A probabilidade de positivos verdadeiros do programa foi de: 88.414634%\n",
      "A probabilidade de positivos falsos foi de: 11.585366%\n"
     ]
    }
   ],
   "source": [
    "quantidade_acertosrele=0\n",
    "contadorrele=0\n",
    "for f in listaclassificacao :\n",
    "        if f == 'relevante':\n",
    "            quantidade_acertosrele+=1\n",
    "        contadorrele+=1\n",
    "print('A probabilidade de positivos verdadeiros do programa foi de: {0:f}%'.format((quantidade_acertosrele/164)*100))\n",
    "print('A probabilidade de positivos falsos foi de: {0:f}%'.format(((164 - quantidade_acertosrele)/164)*100))"
   ]
  },
  {
   "cell_type": "markdown",
   "metadata": {},
   "source": [
    "Porcentagem de negativos ( falsos e verdadeiros)"
   ]
  },
  {
   "cell_type": "code",
   "execution_count": 491,
   "metadata": {},
   "outputs": [],
   "source": [
    "irrelevanteprograma =dadosbkteste[dadosbkteste.programa=='irrelevante']\n",
    "listaclassificacaoirrele = irrelevanteprograma.classificacao.tolist()"
   ]
  },
  {
   "cell_type": "code",
   "execution_count": 492,
   "metadata": {},
   "outputs": [
    {
     "name": "stdout",
     "output_type": "stream",
     "text": [
      "A probabilidade de negativos verdadeiros do programa foi de: 75.000000%\n",
      "A probabilidade de negativos falsos foi de: 25.000000%\n"
     ]
    }
   ],
   "source": [
    "quantidade_acertosirrele=0\n",
    "contadorirrele=0\n",
    "for f in listaclassificacaoirrele :\n",
    "        if f == 'irrelevante':\n",
    "            quantidade_acertosirrele+=1\n",
    "        contadorirrele+=1\n",
    "print('A probabilidade de negativos verdadeiros do programa foi de: {0:f}%'.format((quantidade_acertosirrele/36)*100))\n",
    "print('A probabilidade de negativos falsos foi de: {0:f}%'.format(((36 - quantidade_acertosirrele)/36)*100))"
   ]
  },
  {
   "cell_type": "markdown",
   "metadata": {},
   "source": [
    "___\n",
    "## Concluindo\n",
    "\n",
    "Escreva aqui a sua conclusão.<br /> \n",
    "Faça um comparativo qualitativo sobre as medidas obtidas.<br />\n",
    "Explique como são tratadas as mensagens com dupla negação e sarcasmo.<br />\n",
    "Proponha um plano de expansão. Por que eles devem continuar financiando o seu projeto?<br />\n",
    "\n",
    "Opcionalmente: \n",
    "* Discorrer por que não posso alimentar minha base de Treinamento automaticamente usando o próprio classificador, aplicado a novos tweets.\n",
    "* Propor diferentes cenários de uso para o classificador Naive-Bayes. Cenários sem intersecção com este projeto.\n",
    "* Sugerir e explicar melhorias reais no classificador com indicações concretas de como implementar (não é preciso codificar, mas indicar como fazer e material de pesquisa sobre o assunto).\n"
   ]
  },
  {
   "cell_type": "markdown",
   "metadata": {},
   "source": [
    "**Conclusão**\n",
    "\n",
    "O objetivo do projeto seria monitorar tweets para a empresa burguer king, e classifica-los por meio de um programa em relevante e irrelevante. Desse modo, inicialmente foram considerados 300 tweets que tinham a empresa como assunto em comum, e a partir da classificação feita manualmente de cada tweet captou-se a probabilidade de cada palavra ser relevante ou não para a empresa. Após a captção dos dados dos 300 tweets iniciais e após concluir a programação do classificador Naive-Bayes, aplicamos ele sobre 200 tweets que se encontravam na aba teste do arquivo excel, assim, notou-se que a porcertagem de acerto foi de 86% , uma taxa que pode ser considerada alta, além disso tanto a porcentagem de positivos verdadeiros como a porcentagem de negativos verdadeiros são elevadas. Logo, pode-se considerar de certo modo que o classificador Naive-Bayes construido foi um sucesso dado a base de dados que foi oferecida.\n",
    "\n",
    "\n",
    "Se fossem monitorados mais tweets, a porcentagem de acerto do classificador seria mais alta, já que muitas palavras que aparecem em tweets relevantes não aparecem em tweets irrelevantes por exemplo, logo a porcentagem dessa mesma palavra de ser relevante vai ser muito maior do que a porcetagem dela ser irrelevante. Assim conclui-se que quanto maior a base de dados maior a precisão do classificador Naive-Bayes, isso explica por que nos dias de hoje o chamado de 'data' é tao relevante e vale tanto dinheiro, com uma grande quantidade de informação as probabilidades são infinitas.\n",
    "\n",
    "\n",
    "Um dos defeitos do classificador é que ele é incapaz de interpretar mensagens com sarcasmo ou dupla negação. Isso acontece por que em mensagens sarcásticas, que na verdade estão falando mal de um produto por exemplo, não existe a presença de palavras negativas, somente a presença de palavras positivas já que a frase tem o intuito de ser saracastica, logo como o classificador detecta a maioria das palavras positivas ele classifica aquela frase como positiva, quando na verdade a frase é negativa. Já em frases com dupla negação acontece um fenômeno extremamente semelhante, uma dupla negação significa que algo seria positivo, no entanto, o classificador identifica duas palavras que possuem grande chances de serem negativas, logo para a leitura dele a frase é negativa, quando na verdade é positiva.\n",
    "\n",
    "\n",
    "Nós devemos continuar sendo financiados pelo burguer king por que conforme o andamento do projeto, mais 'data' vai se acumular, e como mais data maior a precisão do classficador automáticos, e com uma alta precisão a empresa será capaz de separar os tweets relevantes dos irrelevantes e, desse modo,  monitorando essa grande quantidade de mensagens que possuem informações relevantes para a empresa, o burguer king será capaz de saber o que os clientes pensam, e assim eles podem tomar medidas para melhorar seu produto e satisfazer ainda mais o seu cliente. Além disso se o financiamento continuar seremos capazes de classificar os tweets relevantes em bons e ruins, possibilitando assim que a empresa tome conta de seus erros e melhore para conquistar mais clientes."
   ]
  },
  {
   "cell_type": "code",
   "execution_count": null,
   "metadata": {},
   "outputs": [],
   "source": []
  }
 ],
 "metadata": {
  "kernelspec": {
   "display_name": "Python 3",
   "language": "python",
   "name": "python3"
  },
  "language_info": {
   "codemirror_mode": {
    "name": "ipython",
    "version": 3
   },
   "file_extension": ".py",
   "mimetype": "text/x-python",
   "name": "python",
   "nbconvert_exporter": "python",
   "pygments_lexer": "ipython3",
   "version": "3.6.4"
  }
 },
 "nbformat": 4,
 "nbformat_minor": 2
}
